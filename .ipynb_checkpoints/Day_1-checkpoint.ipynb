{
 "cells": [
  {
   "cell_type": "markdown",
   "id": "d2e8791f",
   "metadata": {},
   "source": [
    "# Introduction"
   ]
  },
  {
   "cell_type": "markdown",
   "id": "43f668e8",
   "metadata": {},
   "source": [
    "- What might go wrong if we use machine learning in prediction? A naive prediction is that when you predict that higher prices will lead to higher sales(good season happens!). "
   ]
  },
  {
   "cell_type": "markdown",
   "id": "cc7ac32a",
   "metadata": {},
   "source": [
    "- What might go wrong when you just run a regression? Sometimes regression will give you wrong answer!"
   ]
  },
  {
   "cell_type": "code",
   "execution_count": null,
   "id": "7685fb46",
   "metadata": {},
   "outputs": [],
   "source": []
  },
  {
   "cell_type": "markdown",
   "id": "e79efac8",
   "metadata": {},
   "source": [
    "# dd"
   ]
  },
  {
   "cell_type": "markdown",
   "id": "fc115eff",
   "metadata": {},
   "source": [
    "Lord’s\tParadox"
   ]
  },
  {
   "cell_type": "code",
   "execution_count": null,
   "id": "0dcdf798",
   "metadata": {},
   "outputs": [],
   "source": []
  },
  {
   "cell_type": "code",
   "execution_count": null,
   "id": "90491f22",
   "metadata": {},
   "outputs": [],
   "source": []
  },
  {
   "cell_type": "code",
   "execution_count": null,
   "id": "09435ae1",
   "metadata": {},
   "outputs": [],
   "source": []
  }
 ],
 "metadata": {
  "kernelspec": {
   "display_name": "Python 3 (ipykernel)",
   "language": "python",
   "name": "python3"
  },
  "language_info": {
   "codemirror_mode": {
    "name": "ipython",
    "version": 3
   },
   "file_extension": ".py",
   "mimetype": "text/x-python",
   "name": "python",
   "nbconvert_exporter": "python",
   "pygments_lexer": "ipython3",
   "version": "3.9.13"
  },
  "latex_envs": {
   "LaTeX_envs_menu_present": true,
   "autoclose": false,
   "autocomplete": true,
   "bibliofile": "biblio.bib",
   "cite_by": "apalike",
   "current_citInitial": 1,
   "eqLabelWithNumbers": true,
   "eqNumInitial": 1,
   "hotkeys": {
    "equation": "Ctrl-E",
    "itemize": "Ctrl-I"
   },
   "labels_anchors": false,
   "latex_user_defs": false,
   "report_style_numbering": false,
   "user_envs_cfg": false
  },
  "toc": {
   "base_numbering": 1,
   "nav_menu": {},
   "number_sections": true,
   "sideBar": true,
   "skip_h1_title": false,
   "title_cell": "Table of Contents",
   "title_sidebar": "Contents",
   "toc_cell": false,
   "toc_position": {},
   "toc_section_display": true,
   "toc_window_display": false
  }
 },
 "nbformat": 4,
 "nbformat_minor": 5
}
